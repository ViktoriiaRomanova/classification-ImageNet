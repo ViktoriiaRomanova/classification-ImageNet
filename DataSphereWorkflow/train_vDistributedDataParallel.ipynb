{
 "cells": [
  {
   "cell_type": "markdown",
   "id": "a756a701",
   "metadata": {
    "cellId": "9uu8z469ki5jud73yiza3p",
    "execution_id": "f09b1887-324f-46ce-a088-e38e88585c8b",
    "id": "7210baa8"
   },
   "source": [
    "## Setting up parallel training on N GPU/CPU"
   ]
  },
  {
   "cell_type": "code",
   "execution_count": 1,
   "id": "aa9fc252",
   "metadata": {
    "cellId": "j4vshj5sf6rn1bnm71c2i",
    "id": "08633dba"
   },
   "outputs": [],
   "source": [
    "#!g1.1 #noqa\n",
    "import pickle\n",
    "import random\n",
    "import sys\n",
    "\n",
    "import torch.multiprocessing as mp\n",
    "from torchvision import transforms"
   ]
  },
  {
   "cell_type": "code",
   "execution_count": 2,
   "id": "ba9ff592",
   "metadata": {
    "cellId": "q8igkwc5f8bavvj03ksma"
   },
   "outputs": [],
   "source": [
    "#!g1.1 #noqa\n",
    "sys.path.append('/home/jupyter/work/resources/')"
   ]
  },
  {
   "cell_type": "code",
   "execution_count": 3,
   "id": "724dabbb",
   "metadata": {
    "cellId": "meujqfo7spdmi17n8myfaq"
   },
   "outputs": [],
   "source": [
    "#!g1.1 #noqa\n",
    "from processingDataSet import ImageNetDataset"
   ]
  },
  {
   "cell_type": "code",
   "execution_count": 4,
   "id": "22697ebf",
   "metadata": {
    "cellId": "3ptpd4dg78r3834e7ty8pd",
    "id": "0a4fb781"
   },
   "outputs": [],
   "source": [
    "#!g1.1 #noqa\n",
    "with open('../filtered_data_10class.pkl', 'rb') as file:\n",
    "    train_data = pickle.load(file)\n",
    "    val_data = pickle.load(file)"
   ]
  },
  {
   "cell_type": "code",
   "execution_count": 5,
   "id": "f3dc68ba",
   "metadata": {
    "cellId": "6kx9yph0m05jb8tk0sk0m9",
    "id": "78bea7d2"
   },
   "outputs": [
    {
     "name": "stdout",
     "output_type": "stream",
     "text": [
      "Train data size:  12225 Validation data size:  643\n"
     ]
    }
   ],
   "source": [
    "#!g1.1 #noqa\n",
    "print('Train data size: ', len(train_data), 'Validation data size: ', len(val_data))"
   ]
  },
  {
   "cell_type": "code",
   "execution_count": 6,
   "id": "73c70d34",
   "metadata": {
    "cellId": "ufy5wusep89vv1hbmi7jqg",
    "id": "0abbad15"
   },
   "outputs": [],
   "source": [
    "#!g1.1 #noqa\n",
    "transform_train = transforms.Compose([\n",
    "    transforms.Resize([224, 224]),\n",
    "    transforms.ToTensor(),\n",
    "    transforms.Normalize((0.485, 0.456, 0.406), (0.229, 0.224, 0.225)),\n",
    "    transforms.RandomRotation(random.randint(0, 180))])"
   ]
  },
  {
   "cell_type": "code",
   "execution_count": 7,
   "id": "dd109fbc",
   "metadata": {
    "cellId": "aw9572av4hd33k04iilywu",
    "id": "119f5920"
   },
   "outputs": [],
   "source": [
    "#!g1.1 #noqa\n",
    "transform_val = transforms.Compose([\n",
    "    transforms.Resize([224, 224]),\n",
    "    transforms.ToTensor(),\n",
    "    transforms.Normalize((0.485, 0.456, 0.406), (0.229, 0.224, 0.225))])"
   ]
  },
  {
   "cell_type": "code",
   "execution_count": 8,
   "id": "644506f8",
   "metadata": {
    "cellId": "176btd5mw2mhnvpw0nnru6",
    "id": "7f81309b"
   },
   "outputs": [],
   "source": [
    "#!g1.1 #noqa\n",
    "data_path = '/home/jupyter/mnt/datasets/ImageNet/ILSVRC/Data/CLS-LOC/train'"
   ]
  },
  {
   "cell_type": "code",
   "execution_count": 9,
   "id": "16f5efeb",
   "metadata": {
    "cellId": "592t5rc997vkpe2p83wbk",
    "id": "26c10831"
   },
   "outputs": [],
   "source": [
    "#!g1.1 #noqa\n",
    "train_set = ImageNetDataset(data_path, train_data, transform_train)\n",
    "val_set = ImageNetDataset(data_path, val_data, transform_val)"
   ]
  },
  {
   "cell_type": "code",
   "execution_count": null,
   "id": "504d5c49",
   "metadata": {
    "cellId": "dz1jyw47ncg4b7bxqos5rx",
    "execution_id": "2bb1143e-15f3-45b5-9085-6266b62fba38",
    "id": "f460b899"
   },
   "outputs": [
    {
     "name": "stderr",
     "output_type": "stream",
     "text": [
      "  0%|          | 0/47 [00:00<?, ?it/s]"
     ]
    }
   ],
   "source": [
    "#!g1.1 #noqa\n",
    "from distLearningFunc import worker\n",
    "\n",
    "world_size = 4  # Number of CPU or GPU\n",
    "batch_size = 64\n",
    "seed = 10\n",
    "epochs = 2\n",
    "\n",
    "mp.spawn(worker, args = (world_size, train_set, val_set, batch_size, seed, epochs, False),\n",
    "         nprocs = world_size)"
   ]
  },
  {
   "cell_type": "code",
   "execution_count": 11,
   "id": "60f6798a",
   "metadata": {
    "cellId": "u4lp6qjnt51igf35bld5j"
   },
   "outputs": [
    {
     "name": "stdout",
     "output_type": "stream",
     "text": [
      "jupyter   5836  5657 99 16:21 ?        00:02:05 /usr/local/bin/python3 -c from multiprocessing.spawn import spawn_main; spawn_main(tracker_fd=55, pipe_handle=57) --multiprocessing-fork\n",
      "jupyter   5837  5657 99 16:21 ?        00:02:05 /usr/local/bin/python3 -c from multiprocessing.spawn import spawn_main; spawn_main(tracker_fd=55, pipe_handle=61) --multiprocessing-fork\n",
      "jupyter   5938  5657  0 16:23 ?        00:00:00 /bin/sh -c          pip () {             echo 'pip is disabled in bash. Please use %pip magic.' >&2             exit 1         }         pip3 () {             pip         }          ps -fe | grep multiprocessing.spawn \n",
      "jupyter   5940  5938  0 16:23 ?        00:00:00 grep multiprocessing.spawn\n"
     ]
    }
   ],
   "source": [
    "#!g1.1 #noqa\n",
    "'''\n",
    "    Warning from torch.multiprossesing.spawn:\n",
    "\n",
    "    If the main process exits abruptly (e.g. because of an incoming signal), \n",
    "    Python’s multiprocessing sometimes fails to clean up its children. \n",
    "    It’s a known caveat, so if you’re seeing any resource leaks after interrupting the interpreter, \n",
    "    it probably means that this has just happened to you. \n",
    "    https://pytorch.org/docs/stable/multiprocessing.html\n",
    "'''\n",
    "# To fix that problem, find the PID of this proсess(es)\n",
    "# (depends on how many warkers was started) and kill them.\n",
    "!ps -fe | grep multiprocessing.spawn"
   ]
  },
  {
   "cell_type": "code",
   "execution_count": 12,
   "id": "ca181d63",
   "metadata": {
    "cellId": "90i7wpt6d0v3p926j55sg2"
   },
   "outputs": [],
   "source": [
    "#!g1.1 #noqa\n",
    "!kill 5836 5837"
   ]
  },
  {
   "cell_type": "code",
   "execution_count": null,
   "id": "684aa7df",
   "metadata": {
    "cellId": "3kxy9e9ol7b09f01j9np9e8"
   },
   "outputs": [],
   "source": [
    "#!g1.1 #noqa\n"
   ]
  }
 ],
 "metadata": {
  "colab": {
   "provenance": []
  },
  "language_info": {
   "codemirror_mode": {
    "name": "ipython",
    "version": 3
   },
   "file_extension": ".py",
   "mimetype": "text/x-python",
   "name": "python",
   "nbconvert_exporter": "python",
   "pygments_lexer": "ipython3",
   "version": "3.7.7"
  },
  "notebookId": "c2939a09-c1ae-44e2-a0e6-d5f348f7d02f",
  "notebookPath": "DataSphereWorkflow/train_vDistributedDataParallel.ipynb"
 },
 "nbformat": 4,
 "nbformat_minor": 5
}
